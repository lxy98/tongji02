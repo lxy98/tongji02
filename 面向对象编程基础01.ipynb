{
 "cells": [
  {
   "cell_type": "markdown",
   "metadata": {},
   "source": [
    "函数的写法"
   ]
  },
  {
   "cell_type": "code",
   "execution_count": null,
   "metadata": {},
   "outputs": [],
   "source": [
    "\"\"\"\n",
    "标识    函数名字 ():\n",
    "    有冒号就要缩进一个tab\n",
    "在Python中所有的函数都有返回值,如果你没有给予return则默认返回出None,如果你给予了,则返回你给予的值\n",
    "\"\"\"\"\n",
    "def    funcName():\n",
    "    .....\n",
    "    return ....\n",
    "  \n",
    "\"\"\"\n",
    "标识    类名      ()     :\n",
    "    有冒号就要缩进一个tab\n",
    "\"\"\"\n",
    "class  className(object):\n",
    "    ........"
   ]
  },
  {
   "cell_type": "markdown",
   "metadata": {},
   "source": [
    "导入库"
   ]
  },
  {
   "cell_type": "code",
   "execution_count": null,
   "metadata": {},
   "outputs": [],
   "source": [
    "\"\"\"\n",
    "1.导入库, import 库名\n",
    "2. for 循环,如果计数的情况则使用\n",
    "        开始  结束  不长\n",
    "    range的区间是一个前闭后开.\n",
    "    range(start,end,[step])\n",
    "3. 格式化输出\n",
    "3.1 %-->%(),%d后接整型,%f后接浮点,%s后接字符串.\n",
    "3.2 {}-->format(),它可以直接传入任何类型,然后格式化输出.\n",
    "\n",
    "4.print 控制台(terminal)打印\n",
    "4.1 end 以什么方式结尾,默认以换行符\"\\n\"\n",
    "4.2 flush 刷新缓冲区.\n",
    "\"\"\""
   ]
  },
  {
   "cell_type": "markdown",
   "metadata": {},
   "source": [
    "类"
   ]
  },
  {
   "cell_type": "code",
   "execution_count": null,
   "metadata": {},
   "outputs": [],
   "source": [
    "\"\"\"\n",
    "类中的函数可以有自己的参数\n",
    "当你想共享这个参数的时候,那么就打上\"self\"的印记.\n",
    "\"\"\"\n",
    "\n",
    "class A(object):\n",
    "    def __init__(self,a):\n",
    "        self.a = a\n",
    "    def B(self,b):\n",
    "        self.b = b\n",
    "        print(b)\n",
    "    def C(self):\n",
    "        print(self.b)\n",
    "        \n",
    "\n",
    "\n",
    "J = A(1000)\n",
    "J.B(10)\n",
    "J.C()"
   ]
  },
  {
   "cell_type": "markdown",
   "metadata": {},
   "source": [
    "定义类"
   ]
  },
  {
   "cell_type": "code",
   "execution_count": null,
   "metadata": {},
   "outputs": [],
   "source": [
    "# object 不是一个参数\n",
    "\"\"\"\n",
    "定义类只有两步:\n",
    "1. 使用标识符class ClassName(object):\n",
    "2. 重写__init__函数,但是需要记住,一定要打上一个\"self\"的标记\n",
    "   因为后面会学到继承,当在继承的时候可能就会有函数名相撞的情况.\n",
    "   或者说,类中会含有多个变量,多个函数,那么就需要使用\"self\"手段去区分.\n",
    "3. 类的传参是在__init__函数中的.需要注意的是,如果你的参数可能被多个函数都使用,那么\n",
    "   你才在__init__函数中去定义参数\n",
    "\"\"\"\n",
    "class Student(object):\n",
    "    def __init__(self,name):\n",
    "      \t# 多个打印用\",\"进行分隔.\n",
    "        print(name)\n",
    "\n",
    "\n",
    "Student(100)"
   ]
  },
  {
   "cell_type": "markdown",
   "metadata": {},
   "source": [
    "在Python中可以使用`class`关键字定义类，然后在类中通过之前学习过的函数来定义方法，这样就可以将对象的动态特征描述出来，代码如下所示"
   ]
  },
  {
   "cell_type": "code",
   "execution_count": null,
   "metadata": {},
   "outputs": [],
   "source": [
    "# 在Python2中这个object一定要写,但是在Python3中可写可不写(默认就继承了object).\n",
    "# object不是一个参数\n",
    "class Student(object):\n",
    "    # __init__是一个特殊方法用于在创建对象时进行初始化操作\n",
    "    # 通过这个方法我们可以为学生对象绑定name和age两个属性\n",
    "    def __init__(self, name, age):\n",
    "        self.name = name\n",
    "        self.age = age\n",
    "\n",
    "    def study(self, course_name):\n",
    "        print('%s正在学习%s.' % (self.name, course_name))\n",
    "\n",
    "    # PEP 8要求标识符的名字用全小写多个单词用下划线连接\n",
    "    # 但是很多程序员和公司更倾向于使用驼峰命名法(驼峰标识)\n",
    "    def watch_av(self):\n",
    "        if self.age < 18:\n",
    "            print('%s只能观看《熊出没》.' % self.name)\n",
    "        else:\n",
    "            print('%s正在观看岛国爱情动作片.' % self.name\n",
    "# 实例\n",
    "student = Student()"
   ]
  },
  {
   "cell_type": "markdown",
   "metadata": {},
   "source": [
    "**说明**：写在类中的函数，我们通常称之为（对象的）方法，这些方法就是对象可以接收的消息"
   ]
  },
  {
   "cell_type": "code",
   "execution_count": null,
   "metadata": {},
   "outputs": [],
   "source": [
    "# 学类会有些累.\n",
    "class Student(object):\n",
    "    \"\"\"\n",
    "    第二步初始化,初始化自己.\n",
    "    当你的类有一些公用变量的时候,你就可以初始化\n",
    "    初始化中经常放入公有的变量.\n",
    "    \"\"\"\n",
    "    def __init__(self,name):\n",
    "        \"\"\"\n",
    "        在类中,一切的变量和函数都要印记(self)\n",
    "        \"\"\"\n",
    "        self.name = name\n",
    "    def def1(self,num):\n",
    "        self.num = num\n",
    "        print(self.num)\n",
    "        print(self.name)\n",
    "    def def2(self):\n",
    "        print(self.num)\n",
    "        print(self.name)\n",
    "\n",
    "        \n",
    "if __name__ == \"__main__\":\n",
    "    # 实例,类名带括号“Student()”,直接运行初始化函数\n",
    "    student = Student('杜苗苗')\n",
    "    student.def1(100)\n",
    "    student.def2()"
   ]
  },
  {
   "cell_type": "markdown",
   "metadata": {},
   "source": [
    "第一题"
   ]
  },
  {
   "cell_type": "code",
   "execution_count": null,
   "metadata": {},
   "outputs": [],
   "source": [
    "  def getPentagonalNumber(n):\n",
    "    count = 0\n",
    "    for n in range(1,101):\n",
    "        num = (n*(3*n-1))/2\n",
    "        print(int(num),end=' ')\n",
    "        count +=1\n",
    "        if count % 10 == 0:\n",
    "            print(end = '\\n')\n",
    "getPentagonalNumber(6)  "
   ]
  },
  {
   "cell_type": "markdown",
   "metadata": {},
   "source": [
    "第二题"
   ]
  },
  {
   "cell_type": "code",
   "execution_count": null,
   "metadata": {},
   "outputs": [],
   "source": [
    "def  sumDigits(n):\n",
    "    res = 0\n",
    "    while n>0:\n",
    "        res += n%10   #提取个位数\n",
    "        n = n//10     #\n",
    "    print(res)\n",
    "sumDigits(999)"
   ]
  },
  {
   "cell_type": "markdown",
   "metadata": {},
   "source": [
    "第三题"
   ]
  },
  {
   "cell_type": "code",
   "execution_count": null,
   "metadata": {},
   "outputs": [],
   "source": [
    "def displaySortedNumbers(a,b,c):\n",
    "   \n",
    "    if a >  b > c:\n",
    "        print(c,b,a)\n",
    "    elif a > c > b:\n",
    "        print(b, c, a)\n",
    "    elif b > a > c:\n",
    "        print(c, a, b)\n",
    "    elif b > c > a:\n",
    "        print(a, c, b)\n",
    "    elif c > a > b:\n",
    "        print(b, a, c)\n",
    "    else:\n",
    "        print(a, b, c)\n",
    "if __name__ == \"__main__\":\n",
    "    a = int(input('请输入第一个整数：'))\n",
    "    b = int(input('请输入第二个整数：'))\n",
    "    c = int(input('请输入第三个整数：'))\n",
    "    print(displaySortedNumbers(a,b,c))"
   ]
  },
  {
   "cell_type": "markdown",
   "metadata": {},
   "source": [
    "第四题"
   ]
  },
  {
   "cell_type": "code",
   "execution_count": null,
   "metadata": {},
   "outputs": [],
   "source": [
    "def futureInvestmentValue(investmentAmount,monthlyInterestRate,years):\n",
    "    return investmentAmount * ((1+monthlyInterestRate/1200) ** (years *12))\n",
    "def main():\n",
    "    investmentAmount = float(input('输入investmentAmount'))\n",
    "    monthlyInterestRate = float(input('输入monthlyInterestRate'))\n",
    "    year = 30\n",
    "    for i in range(year):\n",
    "        Value = futureInvestmentValue(investmentAmount,monthlyInterestRate,i+1)\n",
    "        print(i+1,'年后\\t',round(Value,2))\n",
    "main()"
   ]
  },
  {
   "cell_type": "markdown",
   "metadata": {},
   "source": [
    "第五题"
   ]
  },
  {
   "cell_type": "code",
   "execution_count": null,
   "metadata": {},
   "outputs": [],
   "source": [
    "def printChars(ch1,ch2,numberPerLine):\n",
    "    a = ord(ch1)\n",
    "    b = ord(ch2)\n",
    "    count = 0\n",
    "    for i in range(a,b):\n",
    "        a1 = chr(i)\n",
    "        print(a1,end = ' ')\n",
    "        count +=1\n",
    "        if count % 10 == 0:\n",
    "            print(end = '\\n')\n",
    "printChars('1','z',10)"
   ]
  },
  {
   "cell_type": "markdown",
   "metadata": {},
   "source": [
    "第六题"
   ]
  },
  {
   "cell_type": "code",
   "execution_count": null,
   "metadata": {},
   "outputs": [],
   "source": [
    "def numberOfDaysInAYear(year):\n",
    "    if (year % 4 == 0 and year % 100 != 0) or (year % 400 == 0):\n",
    "        print(year,'年有366年')\n",
    "    else:\n",
    "        print(year,'年有365年')\n",
    "    for i in range(2010,2021) :\n",
    "        if (i % 4 == 0 and i % 100 != 0) or (i % 400 == 0):\n",
    "            print(i,'年有366年')\n",
    "        else:\n",
    "            print(i,'年有365年')\n",
    "        \n",
    "numberOfDaysInAYear(20017)"
   ]
  },
  {
   "cell_type": "markdown",
   "metadata": {},
   "source": [
    "第七题"
   ]
  },
  {
   "cell_type": "code",
   "execution_count": null,
   "metadata": {},
   "outputs": [],
   "source": [
    "import numpy as np\n",
    "def distance(x1,y1,x2,y2):\n",
    "    d = np.sqrt(pow((x1-x2),2)+pow((y1-y2),2))\n",
    "    return d\n",
    "\n",
    "distance(3,2,3,1"
   ]
  },
  {
   "cell_type": "markdown",
   "metadata": {},
   "source": [
    "第九题"
   ]
  },
  {
   "cell_type": "code",
   "execution_count": null,
   "metadata": {},
   "outputs": [],
   "source": [
    "import time\n",
    "def time1():\n",
    "    a = time.time()\n",
    "    print ('毫秒数为',a)\n",
    "    print(time.asctime(time.localtime(time.time())))\n",
    "time1()"
   ]
  }
 ],
 "metadata": {
  "kernelspec": {
   "display_name": "Python 3",
   "language": "python",
   "name": "python3"
  },
  "language_info": {
   "codemirror_mode": {
    "name": "ipython",
    "version": 3
   },
   "file_extension": ".py",
   "mimetype": "text/x-python",
   "name": "python",
   "nbconvert_exporter": "python",
   "pygments_lexer": "ipython3",
   "version": "3.6.4"
  }
 },
 "nbformat": 4,
 "nbformat_minor": 2
}
